{
 "cells": [
  {
   "cell_type": "markdown",
   "id": "0ade4282",
   "metadata": {},
   "source": [
    "# 1"
   ]
  },
  {
   "cell_type": "code",
   "execution_count": 1,
   "id": "ee7e7c74",
   "metadata": {},
   "outputs": [
    {
     "name": "stdout",
     "output_type": "stream",
     "text": [
      "26\n"
     ]
    }
   ],
   "source": [
    "list = [1,7,-10,34,2,-8]\n",
    "sum = 0\n",
    "for i in list:\n",
    "    sum = sum+i\n",
    "print(sum)\n",
    "    "
   ]
  },
  {
   "cell_type": "markdown",
   "id": "bc8fb743",
   "metadata": {},
   "source": [
    "# 2"
   ]
  },
  {
   "cell_type": "code",
   "execution_count": 4,
   "id": "d198f53b",
   "metadata": {},
   "outputs": [
    {
     "name": "stdout",
     "output_type": "stream",
     "text": [
      "1680\n"
     ]
    }
   ],
   "source": [
    "list = [3,4,5,4,7]\n",
    "value = 1\n",
    "for i in list:\n",
    "    value = value*i\n",
    "print(value)"
   ]
  },
  {
   "cell_type": "markdown",
   "id": "2a138350",
   "metadata": {},
   "source": [
    "# 3"
   ]
  },
  {
   "cell_type": "code",
   "execution_count": 9,
   "id": "d5a8785e",
   "metadata": {},
   "outputs": [
    {
     "name": "stdout",
     "output_type": "stream",
     "text": [
      " Smallest Number : 34 \n"
     ]
    }
   ],
   "source": [
    "list = [1,7,10,34,2,8]\n",
    "maximum = max(list)\n",
    "for i in list:\n",
    "    if i==maximum:\n",
    "      print(f\" largest Number : {i} \")"
   ]
  },
  {
   "cell_type": "markdown",
   "id": "b2426b38",
   "metadata": {},
   "source": [
    "# 4"
   ]
  },
  {
   "cell_type": "code",
   "execution_count": 10,
   "id": "8d17066c",
   "metadata": {},
   "outputs": [
    {
     "name": "stdout",
     "output_type": "stream",
     "text": [
      "Smallest Number : 2\n"
     ]
    }
   ],
   "source": [
    "list = [51,7,10,34,2,8]\n",
    "small = min(list)\n",
    "for i in list:\n",
    "    if i==small:\n",
    "        print(f\"Smallest Number : {i}\" )"
   ]
  },
  {
   "cell_type": "markdown",
   "id": "b343cf11",
   "metadata": {},
   "source": [
    "# 5"
   ]
  },
  {
   "cell_type": "code",
   "execution_count": 6,
   "id": "9427d32d",
   "metadata": {},
   "outputs": [
    {
     "name": "stdout",
     "output_type": "stream",
     "text": [
      "4\n"
     ]
    }
   ],
   "source": [
    "list = ['abc','XYZ','aba','1221','ebhsre','3243']\n",
    "count = 0\n",
    "for i in list:\n",
    "    if len(list)>1 and i[0]==i[-1]:\n",
    "        count = count+1\n",
    "print(count)\n",
    "    \n",
    "        \n",
    "    "
   ]
  },
  {
   "cell_type": "markdown",
   "id": "68dfe1b2",
   "metadata": {},
   "source": [
    "# 6"
   ]
  },
  {
   "cell_type": "code",
   "execution_count": 12,
   "id": "7ea4ee0c",
   "metadata": {},
   "outputs": [
    {
     "name": "stdout",
     "output_type": "stream",
     "text": [
      "{1, 2, 3, 4, 5, 6, 7, 8}\n"
     ]
    }
   ],
   "source": [
    "list = [1,1,1,1,1,1,2,3,7,2,1,5,6,4,8,5,4]\n",
    "set1 = set(list)\n",
    "print(set1)"
   ]
  },
  {
   "cell_type": "markdown",
   "id": "23088d2d",
   "metadata": {},
   "source": [
    "# 7"
   ]
  },
  {
   "cell_type": "code",
   "execution_count": 15,
   "id": "74d70923",
   "metadata": {},
   "outputs": [
    {
     "name": "stdout",
     "output_type": "stream",
     "text": [
      "list is not empty\n"
     ]
    }
   ],
   "source": [
    "list = [34,45,6,5,4,56,7]\n",
    "length = len(list)\n",
    "if length > 1:\n",
    "    print(\"list is not empty\")\n",
    "else:\n",
    "    print(\"list is empty\")"
   ]
  },
  {
   "cell_type": "markdown",
   "id": "2d50eedd",
   "metadata": {},
   "source": [
    "# 8"
   ]
  },
  {
   "cell_type": "code",
   "execution_count": 17,
   "id": "7b78a7f2",
   "metadata": {},
   "outputs": [
    {
     "name": "stdout",
     "output_type": "stream",
     "text": [
      "clone or copy a list:[10, 22, 44, 23, 4]\n"
     ]
    }
   ],
   "source": [
    "list = [10,22,44,23,4]\n",
    "print(f\"clone or copy a list:{list}\")"
   ]
  },
  {
   "cell_type": "markdown",
   "id": "95c553d9",
   "metadata": {},
   "source": [
    "# 9"
   ]
  },
  {
   "cell_type": "code",
   "execution_count": 20,
   "id": "4409c71f",
   "metadata": {},
   "outputs": [
    {
     "name": "stdout",
     "output_type": "stream",
     "text": [
      "please enter the n value:4\n",
      "['govardhan', 'Words', 'Longer', 'given', 'Words']\n"
     ]
    }
   ],
   "source": [
    "n=int(input(\"please enter the n value:\"))\n",
    "x = \"govardhan Find the List of Words that are Longer than n from a given List of Words\"\n",
    "list = []\n",
    "text = x.split()\n",
    "for i in text:\n",
    "    if len(i)>n:\n",
    "        list.append(i)\n",
    "print(list)\n",
    "\n"
   ]
  },
  {
   "cell_type": "markdown",
   "id": "561e9d1c",
   "metadata": {},
   "source": [
    "# 10"
   ]
  },
  {
   "cell_type": "code",
   "execution_count": 25,
   "id": "2252c26d",
   "metadata": {},
   "outputs": [
    {
     "name": "stdout",
     "output_type": "stream",
     "text": [
      "Yes this both lists have a common elements\n"
     ]
    }
   ],
   "source": [
    "list1 = [1,2,3,4,5]\n",
    "list2 = [5,6,7,8,9]\n",
    "for i in list1:\n",
    "    for j in list2:\n",
    "        if i==j:\n",
    "          print(\"Yes this both lists have a common elements\")\n",
    "        "
   ]
  },
  {
   "cell_type": "markdown",
   "id": "2d9e1a8e",
   "metadata": {},
   "source": [
    "# 11"
   ]
  },
  {
   "cell_type": "code",
   "execution_count": 36,
   "id": "939bc0f0",
   "metadata": {},
   "outputs": [
    {
     "name": "stdout",
     "output_type": "stream",
     "text": [
      "['dog', 'elephant', 'fox', 'ponda']\n"
     ]
    }
   ],
   "source": [
    "list = [\"cat\",\"dog\",\"elephant\",\"fox\",\"tiger\",\"lion\",\"ponda\"]\n",
    "list.pop(0)\n",
    "list.pop(4)\n",
    "list.pop(3)\n",
    "\n",
    "print(list)"
   ]
  },
  {
   "cell_type": "markdown",
   "id": "4fa38f42",
   "metadata": {},
   "source": [
    "# 12"
   ]
  },
  {
   "cell_type": "code",
   "execution_count": 42,
   "id": "6306b08a",
   "metadata": {},
   "outputs": [
    {
     "name": "stdout",
     "output_type": "stream",
     "text": [
      "[7, 81, 25, 23, 27]\n"
     ]
    }
   ],
   "source": [
    "list = [7,32,81,20,25,14,23,27]\n",
    "list1 = []\n",
    "for i in list:\n",
    "    if i%2!=0:\n",
    "        list1.append(i)\n",
    "print(list1)"
   ]
  },
  {
   "cell_type": "markdown",
   "id": "07331a80",
   "metadata": {},
   "source": [
    "# 13"
   ]
  },
  {
   "cell_type": "code",
   "execution_count": 44,
   "id": "d0701e97",
   "metadata": {},
   "outputs": [
    {
     "name": "stdout",
     "output_type": "stream",
     "text": [
      "['Cat', 'Fox', 'Lion', 'Dog', 'Ponda', 'Elephant', 'Tiger']\n"
     ]
    }
   ],
   "source": [
    "from random import shuffle\n",
    "list = [\"Cat\", \"Dog\", \"Elephant\", \"Fox\", \"Tiger\", \"Lion\", \"Ponda\"]\n",
    "shuffle(list)\n",
    "print(list)"
   ]
  },
  {
   "cell_type": "markdown",
   "id": "0df3bffa",
   "metadata": {},
   "source": [
    "# 14"
   ]
  },
  {
   "cell_type": "code",
   "execution_count": 14,
   "id": "81b303aa",
   "metadata": {},
   "outputs": [
    {
     "name": "stdout",
     "output_type": "stream",
     "text": [
      "first 5 elements is :[1, 4, 9, 16, 25]\n",
      "last 5 elements is :[625, 676, 729, 784, 841]\n"
     ]
    }
   ],
   "source": [
    "list = []\n",
    "for i in range(1,30):\n",
    "    list.append(i**2)\n",
    "print(f\"first 5 elements is :{list[:5]}\")\n",
    "print(f\"last 5 elements is :{list[-5:]}\")"
   ]
  },
  {
   "cell_type": "markdown",
   "id": "286d2c68",
   "metadata": {},
   "source": [
    "# 15"
   ]
  },
  {
   "cell_type": "markdown",
   "id": "2e49798a",
   "metadata": {},
   "source": [
    "# 16"
   ]
  },
  {
   "cell_type": "code",
   "execution_count": 37,
   "id": "76435013",
   "metadata": {},
   "outputs": [
    {
     "name": "stdout",
     "output_type": "stream",
     "text": [
      "Tutor joes\n"
     ]
    }
   ],
   "source": [
    "str = ['T','u','t','o','r',' ','j','o','e','s']\n",
    "\n",
    "s=''.join(str)\n",
    "print(s)"
   ]
  },
  {
   "cell_type": "markdown",
   "id": "d456cfcd",
   "metadata": {},
   "source": [
    "# 17"
   ]
  },
  {
   "cell_type": "code",
   "execution_count": 47,
   "id": "5fdb7621",
   "metadata": {},
   "outputs": [
    {
     "name": "stdout",
     "output_type": "stream",
     "text": [
      "finding item is 30\n",
      "index number of 30 is: 2\n"
     ]
    }
   ],
   "source": [
    "list = [20, 70, 30, 90, 10, 30, 90, 10, 80]\n",
    "print(\"finding item is 30\")\n",
    "print(\"index number of 30 is:\",list.index(30))"
   ]
  },
  {
   "cell_type": "markdown",
   "id": "d5656e43",
   "metadata": {},
   "source": [
    "# 18"
   ]
  },
  {
   "cell_type": "code",
   "execution_count": 48,
   "id": "28dc5cb0",
   "metadata": {},
   "outputs": [
    {
     "name": "stdout",
     "output_type": "stream",
     "text": [
      "[[20, 30, 70], [30, 90, 10], [30, 20], [70, 90, 10, 80]]\n"
     ]
    }
   ],
   "source": [
    "list = [[20,30,70],[30,90,10], [30,20], [70,90,10,80]]\n",
    "list1 = []\n",
    "for i in list:\n",
    "    list1.append(i)\n",
    "print(list1)"
   ]
  },
  {
   "cell_type": "markdown",
   "id": "8f06f19b",
   "metadata": {},
   "source": [
    "# 19"
   ]
  },
  {
   "cell_type": "code",
   "execution_count": 6,
   "id": "71faa19d",
   "metadata": {},
   "outputs": [
    {
     "name": "stdout",
     "output_type": "stream",
     "text": [
      "[10, 20, 30, 40, 'Cat', 'Dog', 'Lion', 'Ponda']\n"
     ]
    }
   ],
   "source": [
    "list1 = [10, 20, 30, 40]\n",
    "list2 = [\"Cat\", \"Dog\", \"Lion\", \"Ponda\"]\n",
    "\n",
    "list = list1 + list2\n",
    "print(list)"
   ]
  },
  {
   "cell_type": "markdown",
   "id": "26ac84fc",
   "metadata": {},
   "source": [
    "# 20"
   ]
  },
  {
   "cell_type": "code",
   "execution_count": 11,
   "id": "b2d44ad9",
   "metadata": {},
   "outputs": [
    {
     "name": "stdout",
     "output_type": "stream",
     "text": [
      "Lion\n"
     ]
    }
   ],
   "source": [
    "import random\n",
    "list = [\"Cat\", \"Dog\", \"Elephant\", \"Fox\", \"Tiger\", \"Lion\", \"Ponda\"]\n",
    "print(random.choice(list))\n"
   ]
  },
  {
   "cell_type": "markdown",
   "id": "be01f9a9",
   "metadata": {},
   "source": [
    "# 21"
   ]
  },
  {
   "cell_type": "code",
   "execution_count": 20,
   "id": "816f782e",
   "metadata": {},
   "outputs": [
    {
     "name": "stdout",
     "output_type": "stream",
     "text": [
      "Are list1 and list2 circularly identical: True\n",
      "Are list1 and list3 circularly identical: False\n"
     ]
    }
   ],
   "source": [
    "def are_circularly_identical(list1, list2):\n",
    "    if len(list1) != len(list2):\n",
    "        return False\n",
    "    combined = list1 + list1\n",
    "    for i in range(len(list1)):\n",
    "        if combined[i:i+len(list1)] == list2:\n",
    "            return True\n",
    "    return False\n",
    "\n",
    "list1 = [8, 8, 12, 12, 8]\n",
    "list2 = [8, 8, 8, 12, 12]\n",
    "list3 = [1, 8, 8, 12, 12]\n",
    "\n",
    "print(f\"Are list1 and list2 circularly identical: {are_circularly_identical(list1, list2)}\")\n",
    "print(f\"Are list1 and list3 circularly identical: {are_circularly_identical(list1, list3)}\")\n",
    "\n"
   ]
  },
  {
   "cell_type": "markdown",
   "id": "33440df5",
   "metadata": {},
   "source": [
    "# 22"
   ]
  },
  {
   "cell_type": "code",
   "execution_count": 22,
   "id": "f0e36fb6",
   "metadata": {},
   "outputs": [
    {
     "name": "stdout",
     "output_type": "stream",
     "text": [
      "second smallest number: 4\n"
     ]
    }
   ],
   "source": [
    "list = [2,4,56,78,4,34,5,8,9]\n",
    "list.sort()\n",
    "print(\"second smallest number:\",list[1])\n",
    "    "
   ]
  },
  {
   "cell_type": "markdown",
   "id": "8bcf1c39",
   "metadata": {},
   "source": [
    "# 23"
   ]
  },
  {
   "cell_type": "code",
   "execution_count": 24,
   "id": "c63ce487",
   "metadata": {},
   "outputs": [
    {
     "name": "stdout",
     "output_type": "stream",
     "text": [
      "second largest number: 82\n"
     ]
    }
   ],
   "source": [
    "list = [82,4,56,78,4,34,5,100,9]\n",
    "list.sort()\n",
    "print(\"second largest number:\",list[-2])"
   ]
  },
  {
   "cell_type": "markdown",
   "id": "b85ff901",
   "metadata": {},
   "source": [
    "# 24"
   ]
  },
  {
   "cell_type": "code",
   "execution_count": 27,
   "id": "6597483f",
   "metadata": {},
   "outputs": [
    {
     "name": "stdout",
     "output_type": "stream",
     "text": [
      "Counter({50: 3, 10: 2, 30: 2, 20: 2, 60: 2, 40: 2})\n"
     ]
    }
   ],
   "source": [
    "import collections\n",
    "\n",
    "list = [10, 30, 50, 10, 20, 60, 20, 60, 40, 40, 50, 50, 30]\n",
    "\n",
    "list1 = collections.Counter(list)\n",
    "print(list1)"
   ]
  },
  {
   "cell_type": "markdown",
   "id": "26bd1e56",
   "metadata": {},
   "source": [
    "# 25"
   ]
  },
  {
   "cell_type": "code",
   "execution_count": null,
   "id": "db96d3cc",
   "metadata": {},
   "outputs": [],
   "source": [
    "l = [ 82,4,10,56,78,4,34,5,10,9]\n",
    "s = set(l)\n",
    "new_list = list(s)\n",
    "print(new_list)"
   ]
  },
  {
   "cell_type": "markdown",
   "id": "df1f404e",
   "metadata": {},
   "source": [
    "# 26"
   ]
  },
  {
   "cell_type": "code",
   "execution_count": 44,
   "id": "e0803b29",
   "metadata": {},
   "outputs": [
    {
     "name": "stdout",
     "output_type": "stream",
     "text": [
      "please enter your n value:10\n",
      "[\"'T'1,'J'1\", \"'T'2,'J'2\", \"'T'3,'J'3\", \"'T'4,'J'4\", \"'T'5,'J'5\", \"'T'6,'J'6\", \"'T'7,'J'7\", \"'T'8,'J'8\", \"'T'9,'J'9\", \"'T'10,'J'10\"]\n"
     ]
    }
   ],
   "source": [
    "n=int(input(\"please enter your n value:\"))\n",
    "list = []\n",
    "for i in range(1,n+1):\n",
    "    \n",
    "    list1 = [f\"'T'{i},'J'{i}\"]\n",
    "    list = list+list1\n",
    "print(list)"
   ]
  },
  {
   "cell_type": "markdown",
   "id": "9436bc73",
   "metadata": {},
   "source": [
    "# 27"
   ]
  },
  {
   "cell_type": "code",
   "execution_count": 56,
   "id": "092f19e5",
   "metadata": {},
   "outputs": [
    {
     "name": "stdout",
     "output_type": "stream",
     "text": [
      "Unique identification of x is: 7ffb2b8796c8\n",
      "Unique identification of s is: 178035a0270\n"
     ]
    }
   ],
   "source": [
    "x = 30\n",
    "print(\"Unique identification of x is:\",format(id(x),'x'))\n",
    "s = \"Tutor Joes\"\n",
    "print(\"Unique identification of s is:\",format(id(s),'x'))"
   ]
  },
  {
   "cell_type": "markdown",
   "id": "f6ba921a",
   "metadata": {},
   "source": [
    "# 28"
   ]
  },
  {
   "cell_type": "code",
   "execution_count": 58,
   "id": "b0c99051",
   "metadata": {},
   "outputs": [
    {
     "name": "stdout",
     "output_type": "stream",
     "text": [
      "Common items between the lists is: [34, 89, 67]\n"
     ]
    }
   ],
   "source": [
    "list1 = [23,45,67,78,89,34]\n",
    "\n",
    "list2 = [34,89,55,56,39,67]\n",
    "list3 = []\n",
    "for i in list2:\n",
    "    if i in list1:\n",
    "        list3.append(i)\n",
    "print(\"Common items between the lists is:\",list3)"
   ]
  },
  {
   "cell_type": "markdown",
   "id": "30b46177",
   "metadata": {},
   "source": [
    "# 29"
   ]
  },
  {
   "cell_type": "code",
   "execution_count": 59,
   "id": "5e18629c",
   "metadata": {},
   "outputs": [
    {
     "name": "stdout",
     "output_type": "stream",
     "text": [
      "F\n",
      "  Fox\n",
      "\n",
      "S\n",
      "  Shark\n",
      "  Snake\n",
      "\n",
      "b\n",
      "  bear\n",
      "\n",
      "c\n",
      "  cat\n",
      "  cow\n",
      "\n",
      "d\n",
      "  dog\n",
      "\n",
      "l\n",
      "  lion\n",
      "\n",
      "m\n",
      "  monkey\n",
      "  mouse\n",
      "\n",
      "t\n",
      "  tiger\n",
      "  turtle\n",
      "\n"
     ]
    }
   ],
   "source": [
    "from itertools import groupby\n",
    "from operator import itemgetter\n",
    " \n",
    "a = [\"cat\",\"dog\",\"cow\",\"tiger\",\"lion\",\"Fox\",\"Shark\",\"Snake\",\"turtle\",\"mouse\",\"monkey\",\"bear\"]\n",
    " \n",
    "for ltr, wds in groupby(sorted(a), key=itemgetter(0)):\n",
    "    print(ltr)\n",
    "    for w in wds:\n",
    "        print(\" \",w)\n",
    "    print(\"\")"
   ]
  },
  {
   "cell_type": "markdown",
   "id": "db67a201",
   "metadata": {},
   "source": [
    "# 30"
   ]
  },
  {
   "cell_type": "code",
   "execution_count": 2,
   "id": "94e562f3",
   "metadata": {},
   "outputs": [
    {
     "name": "stdout",
     "output_type": "stream",
     "text": [
      "[1, 3, 7, 5, 9, 7, 9]\n"
     ]
    }
   ],
   "source": [
    "list = [1,2,4,3,6,7,5,8,9,7,8,9,10]\n",
    "list1 = []\n",
    "for i in list:\n",
    "    if i%2!=0:\n",
    "        list1.append(i)\n",
    "print(list1)"
   ]
  },
  {
   "cell_type": "markdown",
   "id": "d5fd1c57",
   "metadata": {},
   "source": [
    "# 31"
   ]
  },
  {
   "cell_type": "code",
   "execution_count": 1,
   "id": "97b8dd54",
   "metadata": {},
   "outputs": [
    {
     "name": "stdout",
     "output_type": "stream",
     "text": [
      "no.of unique items in the list is: 6\n"
     ]
    }
   ],
   "source": [
    "list = [10, 20, 30, 50, 80, 70, 70, 80, 10]\n",
    "list1 =set(list)\n",
    "print(\"no.of unique items in the list is:\",len(list1))\n",
    "    \n",
    "    "
   ]
  },
  {
   "cell_type": "markdown",
   "id": "b362d843",
   "metadata": {},
   "source": [
    "# 32"
   ]
  },
  {
   "cell_type": "code",
   "execution_count": 4,
   "id": "d9732223",
   "metadata": {},
   "outputs": [
    {
     "name": "stdout",
     "output_type": "stream",
     "text": [
      "[]\n"
     ]
    }
   ],
   "source": [
    "list = [2, 1, 2, 4, 6, 4, 3, 2, 1]\n",
    "list1 = []\n",
    "for i in list:\n",
    "    if i not in list: \n",
    "        list1.append(i)\n",
    "print(list1)"
   ]
  },
  {
   "cell_type": "markdown",
   "id": "8cb58974",
   "metadata": {},
   "source": [
    "# 33"
   ]
  },
  {
   "cell_type": "code",
   "execution_count": 7,
   "id": "8bfd9a14",
   "metadata": {},
   "outputs": [
    {
     "name": "stdout",
     "output_type": "stream",
     "text": [
      "Counter({4: 3, 3: 3, 8: 2, 6: 1, 7: 1})\n"
     ]
    }
   ],
   "source": [
    "import collections\n",
    "list = [4, 6, 4, 3, 3, 4, 3, 7, 8, 8]\n",
    "print(collections.Counter(list))"
   ]
  },
  {
   "cell_type": "markdown",
   "id": "1f0f736a",
   "metadata": {},
   "source": [
    "# 34"
   ]
  },
  {
   "cell_type": "code",
   "execution_count": 18,
   "id": "73922d62",
   "metadata": {},
   "outputs": [
    {
     "name": "stdout",
     "output_type": "stream",
     "text": [
      "[4, 5, 6, 7, 3, 9, 11, 21]\n",
      "Does this list is between the range: True\n"
     ]
    }
   ],
   "source": [
    "list = [4, 5, 6, 7, 3, 9, 11, 21]\n",
    "print(list)\n",
    "i = 2\n",
    "j = 25\n",
    "t=True\n",
    "f=False\n",
    "for num in list:\n",
    "    if num> i and num<j:\n",
    "        print(\"Does this list is between the range:\",t)\n",
    "        break\n",
    "    else:\n",
    "        print(\"Does this list is between the range:\",f)\n",
    "        break"
   ]
  },
  {
   "cell_type": "markdown",
   "id": "4750a325",
   "metadata": {},
   "source": [
    "# 35"
   ]
  },
  {
   "cell_type": "code",
   "execution_count": 1,
   "id": "675855a9",
   "metadata": {},
   "outputs": [
    {
     "name": "stdout",
     "output_type": "stream",
     "text": [
      "18\n",
      "9\n"
     ]
    }
   ],
   "source": [
    "a = [18, 18, 18, 6, 3, 4, 9, 9, 9]\n",
    "l = len(a)\n",
    "for i in range(l - 2):\n",
    "    if a[i] == a[i + 1] and a[i + 1] == a[i + 2]:\n",
    "        print(a[i])"
   ]
  },
  {
   "cell_type": "markdown",
   "id": "efbd63b8",
   "metadata": {},
   "source": [
    "# 36"
   ]
  },
  {
   "cell_type": "code",
   "execution_count": 2,
   "id": "2be83b71",
   "metadata": {},
   "outputs": [
    {
     "name": "stdout",
     "output_type": "stream",
     "text": [
      "20 30 30 30 400 "
     ]
    }
   ],
   "source": [
    "n = 6\n",
    "a1 = [10,20,30,20,30,400]\n",
    "a2 = []\n",
    "for i in range(1, n):\n",
    "    r = max(a1[i], a1[i-1])\n",
    "    a2.append(r)\n",
    "for i in a2 :\n",
    "    print(i,end=\" \")"
   ]
  },
  {
   "cell_type": "markdown",
   "id": "85c0a60f",
   "metadata": {},
   "source": [
    "# 37"
   ]
  },
  {
   "cell_type": "code",
   "execution_count": 4,
   "id": "5469190b",
   "metadata": {},
   "outputs": [
    {
     "name": "stdout",
     "output_type": "stream",
     "text": [
      "<itertools.permutations object at 0x000001E2B7B39580>\n"
     ]
    }
   ],
   "source": [
    "import itertools\n",
    "list = [1,2,3]\n",
    "print(itertools.permutations(list))"
   ]
  },
  {
   "cell_type": "markdown",
   "id": "86005067",
   "metadata": {},
   "source": [
    "# 38"
   ]
  },
  {
   "cell_type": "code",
   "execution_count": null,
   "id": "61552dae",
   "metadata": {},
   "outputs": [],
   "source": []
  },
  {
   "cell_type": "markdown",
   "id": "f7660481",
   "metadata": {},
   "source": [
    "# 39"
   ]
  },
  {
   "cell_type": "code",
   "execution_count": null,
   "id": "db4df60b",
   "metadata": {},
   "outputs": [],
   "source": [
    "import itertools\n",
    "from itertools import permutations\n",
    "l1 = ['A','B','C']\n",
    "l2 = [1,2,3]\n",
    "unique = []\n",
    "permut = itertools.permutations(l1, len(l2))\n",
    "for comb in permut:\n",
    "    zipped = zip(comb, l2)\n",
    "    unique.append(list(zipped))\n",
    " \n",
    "print(unique)"
   ]
  },
  {
   "cell_type": "markdown",
   "id": "27090dfc",
   "metadata": {},
   "source": [
    "# 40"
   ]
  },
  {
   "cell_type": "code",
   "execution_count": null,
   "id": "eda22b62",
   "metadata": {},
   "outputs": [],
   "source": [
    "val = [1, 3, 4, 6, 5, 1]\n",
    "a = 1\n",
    "print (\"Original list :\" ,val)\n",
    "c = val.count(a)\n",
    "for i in range(c):\n",
    "    val.remove(a)\n",
    "print (\"Remove operation :\" , val)"
   ]
  },
  {
   "cell_type": "markdown",
   "id": "5466db24",
   "metadata": {},
   "source": [
    "# 41"
   ]
  },
  {
   "cell_type": "code",
   "execution_count": null,
   "id": "8dc1c45a",
   "metadata": {},
   "outputs": [],
   "source": [
    "list = [('A', 'B', 'C', 'D'), ('B', 'C', 'C', 'I'), ('H', 'D', 'B', 'C'), ('C', 'C', 'G', 'F')]\n",
    "print(\"Original List : \" + str(list))\n",
    "K = 'C'\n",
    "res = [i for i in list if not any(i[j] == K and i[j + 1] == K for j in range(len(i) - 1))]\n",
    " \n",
    "print(\"After Removal : \" , res)"
   ]
  },
  {
   "cell_type": "markdown",
   "id": "c952be8f",
   "metadata": {},
   "source": [
    "# 42"
   ]
  },
  {
   "cell_type": "code",
   "execution_count": null,
   "id": "0670ad80",
   "metadata": {},
   "outputs": [],
   "source": [
    "a = ['Tutor Joes', 'Computer', 'Education']\n",
    "b = [2 ,1 ,0 ,1 ,0 ,2 ,2 ,0 ,1 ,0 ,1 ,2]\n",
    "print(\"List 1 : \" , a)\n",
    "print(\"List 2 : \" , b)\n",
    "res = [a[i] for i in b]\n",
    " \n",
    "print (\"After Index Elements Replacements is : \" ,res)"
   ]
  },
  {
   "cell_type": "markdown",
   "id": "1b8bb8a2",
   "metadata": {},
   "source": [
    "# 43"
   ]
  },
  {
   "cell_type": "code",
   "execution_count": null,
   "id": "67f71e66",
   "metadata": {},
   "outputs": [],
   "source": [
    "val = [(4, 5, 6, 5, 4), (4, 5, 3), (5, 5, 2), (3, 4, 9)]\n",
    "print(val)\n",
    "K = 5\n",
    "N = 2\n",
    "res = [e for e in val if e.count(K) == N]\n",
    " \n",
    "print(res)"
   ]
  },
  {
   "cell_type": "markdown",
   "id": "3a19273d",
   "metadata": {},
   "source": [
    "# 44"
   ]
  },
  {
   "cell_type": "code",
   "execution_count": null,
   "id": "4c85e7d9",
   "metadata": {},
   "outputs": [],
   "source": [
    "s = [\"Tutor\",\"joes\",\"Computer\",\"Education\"]\n",
    " \n",
    "print(\"Before Swap :\",s)\n",
    " \n",
    "res = [sub.replace(\"joes\",\"Joe's\").replace(\"Computer\", \"Software\").replace(\"Education\", \"Solutions\") for sub in s]\n",
    " \n",
    "print (\"After Swap : \",res)"
   ]
  },
  {
   "cell_type": "markdown",
   "id": "06d5c67c",
   "metadata": {},
   "source": [
    "# 45"
   ]
  },
  {
   "cell_type": "code",
   "execution_count": null,
   "id": "0dfb365f",
   "metadata": {},
   "outputs": [],
   "source": [
    "val = [\"Tutor\",\"joes\",\"Computer\",\"Education\"]\n",
    "print (\"Original list : \", val)\n",
    "\n",
    "res = [i[::-1] for i in val]\n",
    "print (\"Reversed list : \" , res)\n",
    "\n",
    "print(\"Reversed list : \" ,val[::-1])"
   ]
  },
  {
   "cell_type": "markdown",
   "id": "cfe12d82",
   "metadata": {},
   "source": [
    "# 46"
   ]
  },
  {
   "cell_type": "code",
   "execution_count": null,
   "id": "cd2805dd",
   "metadata": {},
   "outputs": [],
   "source": [
    "val = ['P', 'Y', 'T', 'H', 'O', 'N']\n",
    "print(\"The original list : \" + str(val))\n",
    " \n",
    "res = [i if i == 'T' else '@' for i in val]\n",
    "print(\"List after replacement : \" + str(res))"
   ]
  },
  {
   "cell_type": "markdown",
   "id": "6a9735cc",
   "metadata": {},
   "source": [
    "# 47"
   ]
  },
  {
   "cell_type": "code",
   "execution_count": null,
   "id": "582d5381",
   "metadata": {},
   "outputs": [],
   "source": [
    "val = [\"TjC\",\"TjCpp\",\"TjPython\",\"Java\"]\n",
    "print(\"Original List : \",val)\n",
    "sub = 'Tj'\n",
    "res = 0\n",
    "for e in val:\n",
    "    if e.startswith(sub):\n",
    "        res = res + 1\n",
    "print (\"Strings count with matching frequency : \",res)"
   ]
  },
  {
   "cell_type": "markdown",
   "id": "b2c328cd",
   "metadata": {},
   "source": [
    "# 48"
   ]
  },
  {
   "cell_type": "code",
   "execution_count": null,
   "id": "999f9563",
   "metadata": {},
   "outputs": [],
   "source": [
    "l = [\"TjC\",\"TjCpp\",\"TjPython\",\"Java\",\"tj\"]\n",
    "print(\"The original list is : \",l)\n",
    "pref = \"Tj\"\n",
    " \n",
    "res = []\n",
    "for val in l:\n",
    "    if val.startswith(pref):\n",
    "        res.append([val])\n",
    "    else:\n",
    "        res[-1].append(val)\n",
    "print(\"Prefix Split List : \" + str(res))"
   ]
  },
  {
   "cell_type": "markdown",
   "id": "6e03f5a4",
   "metadata": {},
   "source": [
    "# 49"
   ]
  },
  {
   "cell_type": "code",
   "execution_count": null,
   "id": "aa9544fc",
   "metadata": {},
   "outputs": [],
   "source": [
    "val = ['P', 'Y', 'T', 'H', 'O', 'N']\n",
    "print(\"The original list : \" + str(val))\n",
    " \n",
    "res = [i if i == 'T' else '@' for i in val]\n",
    "print(\"List after replacement : \" + str(res))"
   ]
  },
  {
   "cell_type": "markdown",
   "id": "3ddcbf9d",
   "metadata": {},
   "source": [
    "# 50"
   ]
  },
  {
   "cell_type": "code",
   "execution_count": null,
   "id": "20b177d4",
   "metadata": {},
   "outputs": [],
   "source": [
    "val = [\"TutorJoes\", \"ComputerEducations\"]\n",
    "print(\"Original list : \" ,val)\n",
    " \n",
    "res = []\n",
    "for i in val:\n",
    "    t = [[]]\n",
    "    for ch in i:\n",
    "        if ch.isupper():\n",
    "            t.append([])\n",
    "        t[-1].append(ch)\n",
    "    res.append(' '.join(''.join(i) for i in t))\n",
    " \n",
    "print(\"The space added list of strings : \" , res)"
   ]
  },
  {
   "cell_type": "code",
   "execution_count": null,
   "id": "3408444f",
   "metadata": {},
   "outputs": [],
   "source": []
  }
 ],
 "metadata": {
  "kernelspec": {
   "display_name": "Python 3 (ipykernel)",
   "language": "python",
   "name": "python3"
  },
  "language_info": {
   "codemirror_mode": {
    "name": "ipython",
    "version": 3
   },
   "file_extension": ".py",
   "mimetype": "text/x-python",
   "name": "python",
   "nbconvert_exporter": "python",
   "pygments_lexer": "ipython3",
   "version": "3.11.4"
  }
 },
 "nbformat": 4,
 "nbformat_minor": 5
}
